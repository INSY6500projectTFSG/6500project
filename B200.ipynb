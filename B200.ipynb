{
 "cells": [
  {
   "cell_type": "markdown",
   "metadata": {},
   "source": [
    "# INSY 6500 Project\n",
    "\n",
    "## Authors: Taylor Feagin, Sarah Gaines\n",
    "\n",
    "### Uses Billboard 200 data and Spotify Acoustic feature data\n",
    "\n",
    "Dataset Content and download: https://www.kaggle.com/snapcrack/the-billboard-200-acoustic-data/\n",
    "\n",
    "Data Columns Explanation for acoustic_features table: https://www.kaggle.com/nadintamer/top-tracks-of-2017#featuresdf.csv"
   ]
  },
  {
   "cell_type": "code",
   "execution_count": 1,
   "metadata": {},
   "outputs": [],
   "source": [
    "import sqlite3\n",
    "import pandas as pd\n",
    "import numpy as np"
   ]
  },
  {
   "cell_type": "code",
   "execution_count": 13,
   "metadata": {},
   "outputs": [],
   "source": [
    "## https://stackoverflow.com/questions/50996820/how-to-import-a-sqlite3-database-into-python-jupyter-notebook\n",
    "\n",
    "# establish connection to sql database\n",
    "cnx = sqlite3.connect(r'C:\\\\Users\\\\slgai\\\\Documents\\\\GitHub\\\\billboard_200.db')\n",
    "\n",
    "# read in albums table and store as data frame\n",
    "albums = pd.read_sql_query(\"SELECT * FROM albums\", cnx)\n",
    "# read in acoustic_features table and store as data frame\n",
    "feat = pd.read_sql_query(\"SELECT * FROM acoustic_features\", cnx)"
   ]
  },
  {
   "cell_type": "code",
   "execution_count": 10,
   "metadata": {},
   "outputs": [],
   "source": [
    "#deletes date and id column of feat as it is not needed\n",
    "del feat['date']\n",
    "del feat['id']"
   ]
  },
  {
   "cell_type": "code",
   "execution_count": null,
   "metadata": {},
   "outputs": [],
   "source": [
    "#Taylor's path\n",
    "fullfeat = feat.copy()\n",
    "fullfeat = fullfeat.dropna()\n",
    "fullfeat.to_csv(r'C:\\Users\\tbfea\\OneDrive\\Documents\\GitHub\\6500project\\FullFeat.csv')\n",
    "\n",
    "# shows albums with number 1 rank from albums dataframe\n",
    "Rank1 = albums[albums['rank'] == '1'].copy()\n",
    "\n",
    "# number of weeks each album was number one \n",
    "freqR1 = Rank1.groupby(['artist','album'])[['id']].count()\n",
    "#export dataframe to a csv to use in R\n",
    "# https://datatofish.com/export-dataframe-to-csv/\n",
    "freqR1.to_csv(r'C:\\Users\\slgai\\Documents\\GitHub\\6500project\\FreqOfNum1.csv')\n",
    "#freqR1.to_csv(r'C:\\Users\\slgai\\Documents\\GitHub\\6500project\\UniqueAlbumFeat.csv')\n",
    "\n",
    "df2 = freqR1.merge(feat, left_on = 'album', right_on = 'album', how = \"outer\")\n",
    "df2 = df2.dropna()\n",
    "df2 = df2.dropna(axis='columns')\n",
    "\n",
    "df2.to_csv(r'C:\\Users\\slgai\\Documents\\GitHub\\6500project\\R1Freq_Feat_AllSongs.csv')"
   ]
  },
  {
   "cell_type": "code",
   "execution_count": 5,
   "metadata": {},
   "outputs": [],
   "source": [
    "# number of times album appears in top 200\n",
    "albart = albums[['album', 'artist']].copy()\n",
    "albart['albumcount'] = albums['album']\n",
    "weekstop200 = albart.groupby(['artist', 'album'])[['albumcount']].count().reset_index()"
   ]
  },
  {
   "cell_type": "code",
   "execution_count": 7,
   "metadata": {},
   "outputs": [],
   "source": [
    "# merge to create one dataframe containing frequency of appearance on Billboard200 and acoustic features data\n",
    "top200count_feat = weekstop200.merge(feat, how = \"outer\")\n",
    "top200count_feat = top200count_feat.dropna()\n",
    "top200count_feat = top200count_feat.drop_duplicates()\n",
    "# export new dataframe to excel\n",
    "top200count_feat.to_csv(r'C:\\Users\\slgai\\Documents\\GitHub\\6500project\\top200countfeat.csv')"
   ]
  },
  {
   "cell_type": "markdown",
   "metadata": {},
   "source": [
    "Objective 2: compare acoustic features of popular artist and look for patterns over time"
   ]
  },
  {
   "cell_type": "code",
   "execution_count": 14,
   "metadata": {},
   "outputs": [],
   "source": [
    "# RE-READ feat df (run cell 2) without running cell 3\n",
    "# get 10 from each decade, 5 with low num of weeks, 5 with high num of weeks\n",
    "\n",
    "albartdate = feat[['album', 'artist', 'date']].copy()\n",
    "albartdate['year'] = albartdate['date'].str[:4]\n",
    "albartdate.drop_duplicates()\n",
    "weekstop200_withdate = weekstop200.merge(albartdate, how = \"outer\")\n",
    "weekstop200_withdate = weekstop200_withdate.dropna()\n",
    "weekstop200_withdate = weekstop200_withdate.drop_duplicates()\n",
    "del weekstop200_withdate['date']\n"
   ]
  },
  {
   "cell_type": "code",
   "execution_count": 15,
   "metadata": {},
   "outputs": [],
   "source": [
    "weekstop200_withdate.year = weekstop200_withdate.year.astype('int64')"
   ]
  },
  {
   "cell_type": "code",
   "execution_count": 16,
   "metadata": {},
   "outputs": [],
   "source": [
    "highct = weekstop200_withdate[weekstop200_withdate['albumcount'] > 77].copy()\n",
    "lowct = weekstop200_withdate[weekstop200_withdate['albumcount'] < 8].copy()"
   ]
  },
  {
   "cell_type": "code",
   "execution_count": 17,
   "metadata": {},
   "outputs": [],
   "source": [
    "\n",
    "high60s = highct[highct['year'] < 1970].copy()\n",
    "high70s = highct[(highct['year'] < 1980) & (highct['year'] > 1969)].copy()\n",
    "high80s = highct[(highct['year'] < 1990) & (highct['year'] > 1979)].copy()\n",
    "high90s = highct[(highct['year'] < 2000) & (highct['year'] > 1989)].copy()\n",
    "high2000s = highct[(highct['year'] < 2010) & (highct['year'] > 1999)].copy()\n",
    "high10s = highct[highct['year'] > 2009].copy()"
   ]
  },
  {
   "cell_type": "code",
   "execution_count": 18,
   "metadata": {},
   "outputs": [],
   "source": [
    "low60s = lowct[lowct['year'] < 1970].copy()\n",
    "low70s = lowct[(lowct['year'] < 1980) & (lowct['year'] > 1969)].copy()\n",
    "low80s = lowct[(lowct['year'] < 1990) & (lowct['year'] > 1979)].copy()\n",
    "low90s = lowct[(lowct['year'] < 2000) & (lowct['year'] > 1989)].copy()\n",
    "low2000s = lowct[(lowct['year'] < 2010) & (lowct['year'] > 1999)].copy()\n",
    "low10s = lowct[lowct['year'] > 2009].copy()"
   ]
  },
  {
   "cell_type": "code",
   "execution_count": 21,
   "metadata": {},
   "outputs": [],
   "source": [
    "high60s.to_csv(r'C:\\Users\\slgai\\Documents\\GitHub\\6500project\\High60s.csv')\n",
    "high70s.to_csv(r'C:\\Users\\slgai\\Documents\\GitHub\\6500project\\High70s.csv')\n",
    "high80s.to_csv(r'C:\\Users\\slgai\\Documents\\GitHub\\6500project\\High80s.csv')\n",
    "high90s.to_csv(r'C:\\Users\\slgai\\Documents\\GitHub\\6500project\\High90s.csv')\n",
    "high2000s.to_csv(r'C:\\Users\\slgai\\Documents\\GitHub\\6500project\\High2000s.csv')\n",
    "high10s.to_csv(r'C:\\Users\\slgai\\Documents\\GitHub\\6500project\\High10s.csv')"
   ]
  },
  {
   "cell_type": "code",
   "execution_count": 22,
   "metadata": {},
   "outputs": [],
   "source": [
    "low60s.to_csv(r'C:\\Users\\slgai\\Documents\\GitHub\\6500project\\Low60s.csv')\n",
    "low70s.to_csv(r'C:\\Users\\slgai\\Documents\\GitHub\\6500project\\Low70s.csv')\n",
    "low80s.to_csv(r'C:\\Users\\slgai\\Documents\\GitHub\\6500project\\Low80s.csv')\n",
    "low90s.to_csv(r'C:\\Users\\slgai\\Documents\\GitHub\\6500project\\Low90s.csv')\n",
    "low2000s.to_csv(r'C:\\Users\\slgai\\Documents\\GitHub\\6500project\\Low2000s.csv')\n",
    "low10s.to_csv(r'C:\\Users\\slgai\\Documents\\GitHub\\6500project\\Low10s.csv')"
   ]
  },
  {
   "cell_type": "code",
   "execution_count": 23,
   "metadata": {},
   "outputs": [],
   "source": [
    "artist60s = feat[(feat['artist'] == \"Barbra Streisand\") | (feat['artist'] == \"Creedence Clearwater Revival\") | (feat['artist'] == \"Herb Alpert & The Tijuana Brass\") | (feat['artist'] == \"Simon & Garfunkel\") | (feat['artist'] == \"The Beatles\") ]\n",
    "artist70s = feat[(feat['artist'] == \"Aerosmith\") | (feat['artist'] == \"Eagles\") | (feat['artist'] == \"Elton John\") | (feat['artist'] == \"Pink Floyd\") | (feat['artist'] == \"Stevie Wonder\") ]\n",
    "artist80s = feat[(feat['artist'] == \"Alabama\") | (feat['artist'] == \"Journey\") | (feat['artist'] == \"Madonna\") | (feat['artist'] == \"Metallica\") | (feat['artist'] == \"Michael Jackson\") | (feat['artist'] == \"Phil Collins\") | (feat['artist'] == \"U2\") ]\n",
    "artist90s = feat[(feat['artist'] == \"Britney Spears\") | (feat['artist'] == \"Celine Dion\") | (feat['artist'] == \"Dave Matthews Band\") | (feat['artist'] == \"Dixie Chicks\") | (feat['artist'] == \"Nirvana\") | (feat['artist'] == \"Shania Twain\") | (feat['artist'] == \"Whitney Houston\") ]\n",
    "artist2000s = feat[(feat['artist'] == \"'N Sync\") | (feat['artist'] == \"Beyonce\") | (feat['artist'] == \"Carrie Underwood\") | (feat['artist'] == \"Coldplay\") | (feat['artist'] == \"Eminem\") | (feat['artist'] == \"Panic! At The Disco\") | (feat['artist'] == \"Taylor Swift\") ]\n",
    "artist10s = feat[(feat['artist'] == \"Ariana Grande\") | (feat['artist'] == \"Bruno Mars\") | (feat['artist'] == \"Drake\") | (feat['artist'] == \"Ed Sheeran\") | (feat['artist'] == \"Luke Bryan\") | (feat['artist'] == \"One Direction\") | (feat['artist'] == \"twenty one pilots\") ]"
   ]
  },
  {
   "cell_type": "code",
   "execution_count": 24,
   "metadata": {},
   "outputs": [],
   "source": [
    "artist60s.to_csv(r'C:\\Users\\slgai\\Documents\\GitHub\\6500project\\artist60s.csv')\n",
    "artist70s.to_csv(r'C:\\Users\\slgai\\Documents\\GitHub\\6500project\\artist70s.csv')\n",
    "artist80s.to_csv(r'C:\\Users\\slgai\\Documents\\GitHub\\6500project\\artist80s.csv')\n",
    "artist90s.to_csv(r'C:\\Users\\slgai\\Documents\\GitHub\\6500project\\artist90s.csv')\n",
    "artist2000s.to_csv(r'C:\\Users\\slgai\\Documents\\GitHub\\6500project\\artist2000s.csv')\n",
    "artist10s.to_csv(r'C:\\Users\\slgai\\Documents\\GitHub\\6500project\\artist10s.csv')"
   ]
  }
 ],
 "metadata": {
  "kernelspec": {
   "display_name": "Python 3",
   "language": "python",
   "name": "python3"
  },
  "language_info": {
   "codemirror_mode": {
    "name": "ipython",
    "version": 3
   },
   "file_extension": ".py",
   "mimetype": "text/x-python",
   "name": "python",
   "nbconvert_exporter": "python",
   "pygments_lexer": "ipython3",
   "version": "3.7.3"
  }
 },
 "nbformat": 4,
 "nbformat_minor": 2
}
