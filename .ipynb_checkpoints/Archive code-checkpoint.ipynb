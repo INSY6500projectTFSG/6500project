{
 "cells": [
  {
   "cell_type": "markdown",
   "metadata": {},
   "source": [
    "# INSY 6500 Project\n",
    "\n",
    "## Authors: Taylor Feagin, Sarah Gaines\n",
    "\n",
    "### Uses Billboard 200 data and Spotify Acoustic feature data\n",
    "\n",
    "Dataset Content and download: https://www.kaggle.com/snapcrack/the-billboard-200-acoustic-data/\n",
    "\n",
    "Data Columns Explanation for acoustic_features table: https://www.kaggle.com/nadintamer/top-tracks-of-2017#featuresdf.csv"
   ]
  },
  {
   "cell_type": "code",
   "execution_count": 1,
   "metadata": {},
   "outputs": [],
   "source": [
    "## https://stackoverflow.com/questions/50996820/how-to-import-a-sqlite3-database-into-python-jupyter-notebook\n",
    "%matplotlib inline\n",
    "\n",
    "import sqlite3\n",
    "import pandas as pd\n",
    "import numpy as np\n",
    "import matplotlib.pyplot as plt\n"
   ]
  },
  {
   "cell_type": "code",
   "execution_count": 2,
   "metadata": {},
   "outputs": [],
   "source": [
    "# Taylor's path\n",
    "cnx = sqlite3.connect(r'C:\\\\Users\\\\tbfea\\\\OneDrive\\\\Documents\\\\GitHub\\\\INSY6500Project\\\\Project\\\\billboard-200.db')\n",
    "\n",
    "# Sarah's path\n",
    "# cnx = sqlite3.connect(r'C:\\\\Users\\\\slgai\\\\Documents\\\\GitHub\\\\billboard_200.db')"
   ]
  },
  {
   "cell_type": "code",
   "execution_count": 3,
   "metadata": {
    "scrolled": true
   },
   "outputs": [],
   "source": [
    "## https://stackoverflow.com/questions/50996820/how-to-import-a-sqlite3-database-into-python-jupyter-notebook\n",
    "\n",
    "albums = pd.read_sql_query(\"SELECT * FROM albums\", cnx)\n"
   ]
  },
  {
   "cell_type": "code",
   "execution_count": 25,
   "metadata": {},
   "outputs": [
    {
     "data": {
      "text/html": [
       "<div>\n",
       "<style scoped>\n",
       "    .dataframe tbody tr th:only-of-type {\n",
       "        vertical-align: middle;\n",
       "    }\n",
       "\n",
       "    .dataframe tbody tr th {\n",
       "        vertical-align: top;\n",
       "    }\n",
       "\n",
       "    .dataframe thead th {\n",
       "        text-align: right;\n",
       "    }\n",
       "</style>\n",
       "<table border=\"1\" class=\"dataframe\">\n",
       "  <thead>\n",
       "    <tr style=\"text-align: right;\">\n",
       "      <th></th>\n",
       "      <th>id</th>\n",
       "      <th>date</th>\n",
       "      <th>artist</th>\n",
       "      <th>album</th>\n",
       "      <th>rank</th>\n",
       "      <th>length</th>\n",
       "      <th>track_length</th>\n",
       "    </tr>\n",
       "  </thead>\n",
       "  <tbody>\n",
       "    <tr>\n",
       "      <th>0</th>\n",
       "      <td>1</td>\n",
       "      <td>None</td>\n",
       "      <td>None</td>\n",
       "      <td>None</td>\n",
       "      <td>None</td>\n",
       "      <td>NaN</td>\n",
       "      <td>NaN</td>\n",
       "    </tr>\n",
       "    <tr>\n",
       "      <th>1</th>\n",
       "      <td>2</td>\n",
       "      <td>2019-01-19</td>\n",
       "      <td>A Boogie Wit da Hoodie</td>\n",
       "      <td>Hoodie SZN</td>\n",
       "      <td>1</td>\n",
       "      <td>20.0</td>\n",
       "      <td>185233.800000</td>\n",
       "    </tr>\n",
       "    <tr>\n",
       "      <th>2</th>\n",
       "      <td>3</td>\n",
       "      <td>2019-01-19</td>\n",
       "      <td>21 Savage</td>\n",
       "      <td>I Am &gt; I Was</td>\n",
       "      <td>2</td>\n",
       "      <td>15.0</td>\n",
       "      <td>211050.733333</td>\n",
       "    </tr>\n",
       "    <tr>\n",
       "      <th>3</th>\n",
       "      <td>4</td>\n",
       "      <td>2019-01-19</td>\n",
       "      <td>Soundtrack</td>\n",
       "      <td>Spider-Man: Into The Spider-Verse</td>\n",
       "      <td>3</td>\n",
       "      <td>13.0</td>\n",
       "      <td>190866.384615</td>\n",
       "    </tr>\n",
       "    <tr>\n",
       "      <th>4</th>\n",
       "      <td>5</td>\n",
       "      <td>2019-01-19</td>\n",
       "      <td>Meek Mill</td>\n",
       "      <td>Championships</td>\n",
       "      <td>4</td>\n",
       "      <td>19.0</td>\n",
       "      <td>219173.894737</td>\n",
       "    </tr>\n",
       "  </tbody>\n",
       "</table>\n",
       "</div>"
      ],
      "text/plain": [
       "   id        date                  artist                              album  \\\n",
       "0   1        None                    None                               None   \n",
       "1   2  2019-01-19  A Boogie Wit da Hoodie                         Hoodie SZN   \n",
       "2   3  2019-01-19               21 Savage                       I Am > I Was   \n",
       "3   4  2019-01-19              Soundtrack  Spider-Man: Into The Spider-Verse   \n",
       "4   5  2019-01-19               Meek Mill                      Championships   \n",
       "\n",
       "   rank  length   track_length  \n",
       "0  None     NaN            NaN  \n",
       "1     1    20.0  185233.800000  \n",
       "2     2    15.0  211050.733333  \n",
       "3     3    13.0  190866.384615  \n",
       "4     4    19.0  219173.894737  "
      ]
     },
     "execution_count": 25,
     "metadata": {},
     "output_type": "execute_result"
    }
   ],
   "source": [
    "albums.head()"
   ]
  },
  {
   "cell_type": "code",
   "execution_count": 4,
   "metadata": {
    "scrolled": true
   },
   "outputs": [],
   "source": [
    "## https://stackoverflow.com/questions/50996820/how-to-import-a-sqlite3-database-into-python-jupyter-notebook\n",
    "\n",
    "feat = pd.read_sql_query(\"SELECT * FROM acoustic_features\", cnx)\n"
   ]
  },
  {
   "cell_type": "code",
   "execution_count": 26,
   "metadata": {},
   "outputs": [
    {
     "data": {
      "text/html": [
       "<div>\n",
       "<style scoped>\n",
       "    .dataframe tbody tr th:only-of-type {\n",
       "        vertical-align: middle;\n",
       "    }\n",
       "\n",
       "    .dataframe tbody tr th {\n",
       "        vertical-align: top;\n",
       "    }\n",
       "\n",
       "    .dataframe thead th {\n",
       "        text-align: right;\n",
       "    }\n",
       "</style>\n",
       "<table border=\"1\" class=\"dataframe\">\n",
       "  <thead>\n",
       "    <tr style=\"text-align: right;\">\n",
       "      <th></th>\n",
       "      <th>song</th>\n",
       "      <th>album</th>\n",
       "      <th>artist</th>\n",
       "      <th>acousticness</th>\n",
       "      <th>danceability</th>\n",
       "      <th>duration_ms</th>\n",
       "      <th>energy</th>\n",
       "      <th>instrumentalness</th>\n",
       "      <th>key</th>\n",
       "      <th>liveness</th>\n",
       "      <th>loudness</th>\n",
       "      <th>mode</th>\n",
       "      <th>speechiness</th>\n",
       "      <th>tempo</th>\n",
       "      <th>time_signature</th>\n",
       "      <th>valence</th>\n",
       "      <th>album_id</th>\n",
       "    </tr>\n",
       "  </thead>\n",
       "  <tbody>\n",
       "    <tr>\n",
       "      <th>0</th>\n",
       "      <td>Voices In My Head</td>\n",
       "      <td>Hoodie SZN</td>\n",
       "      <td>A Boogie Wit da Hoodie</td>\n",
       "      <td>0.0555</td>\n",
       "      <td>0.754</td>\n",
       "      <td>142301.0</td>\n",
       "      <td>0.663</td>\n",
       "      <td>0.000000</td>\n",
       "      <td>6.0</td>\n",
       "      <td>0.101</td>\n",
       "      <td>-6.311</td>\n",
       "      <td>0.0</td>\n",
       "      <td>0.427</td>\n",
       "      <td>90.195</td>\n",
       "      <td>4.0</td>\n",
       "      <td>0.207</td>\n",
       "      <td>3r5hf3Cj3EMh1C2saQ8jyt</td>\n",
       "    </tr>\n",
       "    <tr>\n",
       "      <th>1</th>\n",
       "      <td>Beasty</td>\n",
       "      <td>Hoodie SZN</td>\n",
       "      <td>A Boogie Wit da Hoodie</td>\n",
       "      <td>0.2920</td>\n",
       "      <td>0.860</td>\n",
       "      <td>152829.0</td>\n",
       "      <td>0.418</td>\n",
       "      <td>0.000000</td>\n",
       "      <td>7.0</td>\n",
       "      <td>0.106</td>\n",
       "      <td>-9.061</td>\n",
       "      <td>0.0</td>\n",
       "      <td>0.158</td>\n",
       "      <td>126.023</td>\n",
       "      <td>4.0</td>\n",
       "      <td>0.374</td>\n",
       "      <td>3r5hf3Cj3EMh1C2saQ8jyt</td>\n",
       "    </tr>\n",
       "    <tr>\n",
       "      <th>2</th>\n",
       "      <td>I Did It</td>\n",
       "      <td>Hoodie SZN</td>\n",
       "      <td>A Boogie Wit da Hoodie</td>\n",
       "      <td>0.1530</td>\n",
       "      <td>0.718</td>\n",
       "      <td>215305.0</td>\n",
       "      <td>0.454</td>\n",
       "      <td>0.000046</td>\n",
       "      <td>8.0</td>\n",
       "      <td>0.116</td>\n",
       "      <td>-9.012</td>\n",
       "      <td>1.0</td>\n",
       "      <td>0.127</td>\n",
       "      <td>89.483</td>\n",
       "      <td>4.0</td>\n",
       "      <td>0.196</td>\n",
       "      <td>3r5hf3Cj3EMh1C2saQ8jyt</td>\n",
       "    </tr>\n",
       "    <tr>\n",
       "      <th>3</th>\n",
       "      <td>Swervin (feat. 6ix9ine)</td>\n",
       "      <td>Hoodie SZN</td>\n",
       "      <td>A Boogie Wit da Hoodie</td>\n",
       "      <td>0.0153</td>\n",
       "      <td>0.581</td>\n",
       "      <td>189487.0</td>\n",
       "      <td>0.662</td>\n",
       "      <td>0.000000</td>\n",
       "      <td>9.0</td>\n",
       "      <td>0.111</td>\n",
       "      <td>-5.239</td>\n",
       "      <td>1.0</td>\n",
       "      <td>0.303</td>\n",
       "      <td>93.023</td>\n",
       "      <td>4.0</td>\n",
       "      <td>0.434</td>\n",
       "      <td>3r5hf3Cj3EMh1C2saQ8jyt</td>\n",
       "    </tr>\n",
       "    <tr>\n",
       "      <th>4</th>\n",
       "      <td>Startender (feat. Offset and Tyga)</td>\n",
       "      <td>Hoodie SZN</td>\n",
       "      <td>A Boogie Wit da Hoodie</td>\n",
       "      <td>0.0235</td>\n",
       "      <td>0.736</td>\n",
       "      <td>192779.0</td>\n",
       "      <td>0.622</td>\n",
       "      <td>0.000000</td>\n",
       "      <td>6.0</td>\n",
       "      <td>0.151</td>\n",
       "      <td>-4.653</td>\n",
       "      <td>0.0</td>\n",
       "      <td>0.133</td>\n",
       "      <td>191.971</td>\n",
       "      <td>4.0</td>\n",
       "      <td>0.506</td>\n",
       "      <td>3r5hf3Cj3EMh1C2saQ8jyt</td>\n",
       "    </tr>\n",
       "  </tbody>\n",
       "</table>\n",
       "</div>"
      ],
      "text/plain": [
       "                                 song       album                  artist  \\\n",
       "0                   Voices In My Head  Hoodie SZN  A Boogie Wit da Hoodie   \n",
       "1                              Beasty  Hoodie SZN  A Boogie Wit da Hoodie   \n",
       "2                            I Did It  Hoodie SZN  A Boogie Wit da Hoodie   \n",
       "3             Swervin (feat. 6ix9ine)  Hoodie SZN  A Boogie Wit da Hoodie   \n",
       "4  Startender (feat. Offset and Tyga)  Hoodie SZN  A Boogie Wit da Hoodie   \n",
       "\n",
       "   acousticness  danceability  duration_ms  energy  instrumentalness  key  \\\n",
       "0        0.0555         0.754     142301.0   0.663          0.000000  6.0   \n",
       "1        0.2920         0.860     152829.0   0.418          0.000000  7.0   \n",
       "2        0.1530         0.718     215305.0   0.454          0.000046  8.0   \n",
       "3        0.0153         0.581     189487.0   0.662          0.000000  9.0   \n",
       "4        0.0235         0.736     192779.0   0.622          0.000000  6.0   \n",
       "\n",
       "   liveness  loudness  mode  speechiness    tempo  time_signature  valence  \\\n",
       "0     0.101    -6.311   0.0        0.427   90.195             4.0    0.207   \n",
       "1     0.106    -9.061   0.0        0.158  126.023             4.0    0.374   \n",
       "2     0.116    -9.012   1.0        0.127   89.483             4.0    0.196   \n",
       "3     0.111    -5.239   1.0        0.303   93.023             4.0    0.434   \n",
       "4     0.151    -4.653   0.0        0.133  191.971             4.0    0.506   \n",
       "\n",
       "                 album_id  \n",
       "0  3r5hf3Cj3EMh1C2saQ8jyt  \n",
       "1  3r5hf3Cj3EMh1C2saQ8jyt  \n",
       "2  3r5hf3Cj3EMh1C2saQ8jyt  \n",
       "3  3r5hf3Cj3EMh1C2saQ8jyt  \n",
       "4  3r5hf3Cj3EMh1C2saQ8jyt  "
      ]
     },
     "execution_count": 26,
     "metadata": {},
     "output_type": "execute_result"
    }
   ],
   "source": [
    "feat.head()"
   ]
  },
  {
   "cell_type": "code",
   "execution_count": 7,
   "metadata": {},
   "outputs": [],
   "source": [
    "#make new dataframe with just the columns album and rank from 'albums' \n",
    "\n",
    "albumrank = albums[['album', 'rank']].copy()\n"
   ]
  },
  {
   "cell_type": "code",
   "execution_count": 17,
   "metadata": {},
   "outputs": [],
   "source": [
    "albartrank = albums[['album', 'artist','rank']].copy()\n",
    "albartR1 = albartrank[albartrank['rank'] == '1'].copy()\n",
    "albartR1.drop_duplicates(subset =\"album\", \n",
    "                     keep = 'first', inplace = True)\n",
    "albartR1.to_csv(r'C:\\Users\\tbfea\\OneDrive\\Documents\\GitHub\\6500project\\album_artist_rank1.csv')"
   ]
  },
  {
   "cell_type": "code",
   "execution_count": 11,
   "metadata": {},
   "outputs": [],
   "source": [
    "albumR1 = albumrank[albumrank['rank'] == '1'].copy()\n",
    "\n",
    "albumR1.drop_duplicates(subset =\"album\", \n",
    "                     keep = 'first', inplace = True)\n",
    "\n",
    "\n",
    "\n",
    "df = albumR1.merge(feat, left_on = 'album', right_on = 'album', how = \"outer\")\n",
    "df = df.dropna()\n",
    "df = df.dropna(axis='columns')\n"
   ]
  },
  {
   "cell_type": "code",
   "execution_count": 15,
   "metadata": {},
   "outputs": [],
   "source": [
    "df2 = freq1.merge(feat, left_on = 'album', right_on = 'album', how = \"outer\")\n",
    "df2 = df2.dropna()\n",
    "df2 = df2.dropna(axis='columns')"
   ]
  },
  {
   "cell_type": "code",
   "execution_count": null,
   "metadata": {},
   "outputs": [],
   "source": [
    "# merges the album rank dataframe with the features dataframe, basically adds the rank to the features database.\n",
    "# issue: has duplicates of the song features\n",
    "fulldata = pd.merge(albumrank, feat, how = \"outer\")\n",
    "# all albums that were number one each week using the full data dataframe\n",
    "num1full = fulldata[fulldata['rank'] == '1'].copy()\n",
    "# data frame of the average acoustic characteristics for each album in num1full\n",
    "avg_feat = num1full.groupby('album')[['acousticness','danceability','duration_ms','energy','instrumentalness','key','liveness','loudness','mode','speechiness','tempo','time_signature','valence']].aggregate('mean')\n",
    "# https://stackoverflow.com/questions/13411544/delete-column-from-pandas-dataframe\n",
    "# deletes id column of num1full to perform merge\n",
    "del num1full['id']\n",
    "# https://stackoverflow.com/questions/53645882/pandas-merging-101\n",
    "# left2.merge(right2, left_on='keyLeft', right_on='keyRight', how='inner')\n",
    "#merges num1full with freqgt1 and drops missing values. Gets full data for albums who were number 1 for more than 1 week\n",
    "df = freqgt1.merge(num1full, left_on = 'album', right_on = 'album', how = \"outer\")\n",
    "df = df.dropna()\n",
    "df = df.dropna(axis='columns')\n",
    "#drops duplicates \n",
    "dfunique = df.copy()\n",
    "dfunique.drop_duplicates(subset =\"album\", \n",
    "                     keep = 'first', inplace = True)"
   ]
  },
  {
   "cell_type": "code",
   "execution_count": 13,
   "metadata": {},
   "outputs": [],
   "source": [
    "# shows albums with number 1 rank from albums dataframe\n",
    "num1 = albums[albums['rank'] == '1'].copy()"
   ]
  },
  {
   "cell_type": "code",
   "execution_count": null,
   "metadata": {},
   "outputs": [],
   "source": [
    "#drops the duplicates in the num 1 dataframe \n",
    "# https://www.geeksforgeeks.org/python-pandas-dataframe-drop_duplicates/\n",
    "num1unique = num1.copy()\n",
    "num1unique.drop_duplicates(subset =\"album\", \n",
    "                     keep = 'first', inplace = True)"
   ]
  },
  {
   "cell_type": "code",
   "execution_count": 6,
   "metadata": {},
   "outputs": [],
   "source": [
    "#deletes date column of feat as it is not needed\n",
    "del feat['date']\n",
    "del feat['id']"
   ]
  },
  {
   "cell_type": "code",
   "execution_count": 14,
   "metadata": {
    "scrolled": true
   },
   "outputs": [],
   "source": [
    "# number of weeks each album was number one \n",
    "freq1 = num1.groupby(['artist','album'])[['id']].count()\n",
    "# freq1.to_csv(r'C:\\Users\\tbfea\\OneDrive\\Documents\\GitHub\\6500project\\UniqueAlbumFeat.csv')\n",
    "# histogram of number of weeks albums were number one?"
   ]
  },
  {
   "cell_type": "code",
   "execution_count": null,
   "metadata": {},
   "outputs": [],
   "source": [
    "#frequency greater than 1; albums that were number 1 for more than one week\n",
    "freqgt1 = freq1[freq1['id']>1].copy()"
   ]
  },
  {
   "cell_type": "code",
   "execution_count": null,
   "metadata": {},
   "outputs": [],
   "source": [
    "# Sarah added - new dataframe with average acoustic feat per album\n",
    "feat_uni = (feat.groupby('album')[['acousticness','danceability','duration_ms','energy','instrumentalness','key','liveness','loudness','mode','speechiness','tempo','time_signature','valence']].aggregate('mean')).reset_index()\n",
    "feat_uni"
   ]
  },
  {
   "cell_type": "code",
   "execution_count": null,
   "metadata": {
    "scrolled": false
   },
   "outputs": [],
   "source": [
    "#merges freq 1 with feat_uni to get the average unique features of the albums who have been number 1\n",
    "# Sarah added - \n",
    "testdf = freq1.merge(feat_uni, left_on = 'album', right_on = 'album', how = \"outer\")\n",
    "testdf = testdf.dropna()\n",
    "testdf = testdf.dropna(axis='columns')\n",
    "# testdf"
   ]
  },
  {
   "cell_type": "code",
   "execution_count": null,
   "metadata": {
    "scrolled": true
   },
   "outputs": [],
   "source": [
    "# Sarah added\n",
    "# testdf.describe()"
   ]
  },
  {
   "cell_type": "code",
   "execution_count": 16,
   "metadata": {},
   "outputs": [],
   "source": [
    "#export dataframe to a csv to use in R\n",
    "# https://datatofish.com/export-dataframe-to-csv/\n",
    "#Sarah's path\n",
    "# testdf.to_csv(r'C:\\Users\\slgai\\Documents\\GitHub\\6500project\\UniqueAlbumFeat.csv')\n",
    "\n",
    "#Taylor's path\n",
    "df2.to_csv(r'C:\\Users\\tbfea\\OneDrive\\Documents\\GitHub\\6500project\\R1Freq_Feat_AllSongs.csv')"
   ]
  },
  {
   "cell_type": "code",
   "execution_count": null,
   "metadata": {},
   "outputs": [],
   "source": [
    "albums.groupby()"
   ]
  },
  {
   "cell_type": "code",
   "execution_count": 44,
   "metadata": {},
   "outputs": [],
   "source": [
    "# number of times album appears in top 200\n",
    "albart = albums[['album', 'artist']].copy()\n",
    "albart['albumcount'] = albums['album']\n",
    "weekstop200 = albart.groupby(['artist', 'album'])[['albumcount']].count().reset_index()"
   ]
  },
  {
   "cell_type": "code",
   "execution_count": 46,
   "metadata": {},
   "outputs": [
    {
     "data": {
      "text/html": [
       "<div>\n",
       "<style scoped>\n",
       "    .dataframe tbody tr th:only-of-type {\n",
       "        vertical-align: middle;\n",
       "    }\n",
       "\n",
       "    .dataframe tbody tr th {\n",
       "        vertical-align: top;\n",
       "    }\n",
       "\n",
       "    .dataframe thead th {\n",
       "        text-align: right;\n",
       "    }\n",
       "</style>\n",
       "<table border=\"1\" class=\"dataframe\">\n",
       "  <thead>\n",
       "    <tr style=\"text-align: right;\">\n",
       "      <th></th>\n",
       "      <th>artist</th>\n",
       "      <th>album</th>\n",
       "      <th>albumcount</th>\n",
       "    </tr>\n",
       "  </thead>\n",
       "  <tbody>\n",
       "    <tr>\n",
       "      <th>28577</th>\n",
       "      <td>Taylor Swift</td>\n",
       "      <td>1989</td>\n",
       "      <td>212</td>\n",
       "    </tr>\n",
       "    <tr>\n",
       "      <th>28578</th>\n",
       "      <td>Taylor Swift</td>\n",
       "      <td>Beautiful Eyes (EP)</td>\n",
       "      <td>21</td>\n",
       "    </tr>\n",
       "    <tr>\n",
       "      <th>28579</th>\n",
       "      <td>Taylor Swift</td>\n",
       "      <td>Fearless</td>\n",
       "      <td>255</td>\n",
       "    </tr>\n",
       "    <tr>\n",
       "      <th>28580</th>\n",
       "      <td>Taylor Swift</td>\n",
       "      <td>Red</td>\n",
       "      <td>151</td>\n",
       "    </tr>\n",
       "    <tr>\n",
       "      <th>28581</th>\n",
       "      <td>Taylor Swift</td>\n",
       "      <td>Speak Now</td>\n",
       "      <td>137</td>\n",
       "    </tr>\n",
       "    <tr>\n",
       "      <th>28582</th>\n",
       "      <td>Taylor Swift</td>\n",
       "      <td>Speak Now: World Tour Live CD + DVD</td>\n",
       "      <td>11</td>\n",
       "    </tr>\n",
       "    <tr>\n",
       "      <th>28583</th>\n",
       "      <td>Taylor Swift</td>\n",
       "      <td>Taylor Swift</td>\n",
       "      <td>275</td>\n",
       "    </tr>\n",
       "    <tr>\n",
       "      <th>28584</th>\n",
       "      <td>Taylor Swift</td>\n",
       "      <td>The Taylor Swift Holiday Collection (EP)</td>\n",
       "      <td>43</td>\n",
       "    </tr>\n",
       "    <tr>\n",
       "      <th>28585</th>\n",
       "      <td>Taylor Swift</td>\n",
       "      <td>reputation</td>\n",
       "      <td>60</td>\n",
       "    </tr>\n",
       "  </tbody>\n",
       "</table>\n",
       "</div>"
      ],
      "text/plain": [
       "             artist                                     album  albumcount\n",
       "28577  Taylor Swift                                      1989         212\n",
       "28578  Taylor Swift                       Beautiful Eyes (EP)          21\n",
       "28579  Taylor Swift                                  Fearless         255\n",
       "28580  Taylor Swift                                       Red         151\n",
       "28581  Taylor Swift                                 Speak Now         137\n",
       "28582  Taylor Swift       Speak Now: World Tour Live CD + DVD          11\n",
       "28583  Taylor Swift                              Taylor Swift         275\n",
       "28584  Taylor Swift  The Taylor Swift Holiday Collection (EP)          43\n",
       "28585  Taylor Swift                                reputation          60"
      ]
     },
     "execution_count": 46,
     "metadata": {},
     "output_type": "execute_result"
    }
   ],
   "source": [
    "# num1 = albums[albums['rank'] == '1'].copy()\n",
    "weekstop200[weekstop200['artist'] == 'Taylor Swift']"
   ]
  },
  {
   "cell_type": "code",
   "execution_count": null,
   "metadata": {},
   "outputs": [],
   "source": [
    "# get 10 from each decade, 5 with low num of weeks, 5 with high num of weeks"
   ]
  }
 ],
 "metadata": {
  "kernelspec": {
   "display_name": "Python 3",
   "language": "python",
   "name": "python3"
  },
  "language_info": {
   "codemirror_mode": {
    "name": "ipython",
    "version": 3
   },
   "file_extension": ".py",
   "mimetype": "text/x-python",
   "name": "python",
   "nbconvert_exporter": "python",
   "pygments_lexer": "ipython3",
   "version": "3.7.3"
  }
 },
 "nbformat": 4,
 "nbformat_minor": 2
}
